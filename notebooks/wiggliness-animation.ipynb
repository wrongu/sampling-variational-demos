{
 "cells": [
  {
   "cell_type": "code",
   "execution_count": 1,
   "id": "c03de401",
   "metadata": {},
   "outputs": [],
   "source": [
    "import sys\n",
    "sys.path.extend(['..'])"
   ]
  },
  {
   "cell_type": "code",
   "execution_count": 2,
   "id": "bd057812",
   "metadata": {},
   "outputs": [],
   "source": [
    "import torch\n",
    "import numpy as np\n",
    "import pandas as pd\n",
    "import matplotlib.pyplot as plt\n",
    "import stan\n",
    "import json\n",
    "from pathlib import Path\n",
    "from tqdm.auto import trange\n",
    "import stan\n",
    "\n",
    "import nest_asyncio\n",
    "nest_asyncio.apply()\n",
    "\n",
    "%matplotlib inline"
   ]
  },
  {
   "cell_type": "markdown",
   "id": "104a97b0",
   "metadata": {},
   "source": [
    "__Create mixture of sinusoids__"
   ]
  },
  {
   "cell_type": "code",
   "execution_count": 3,
   "id": "9d88c06e",
   "metadata": {},
   "outputs": [],
   "source": [
    "class RandomMixtureOfSinusoids(object):\n",
    "    def __init__(self, dim, freqs, alpha):\n",
    "        self._dim = dim\n",
    "        self._omega = np.array(freqs)\n",
    "        self._alpha = alpha\n",
    "        self._weights = (self._omega ** alpha) / np.sum(self._omega ** alpha)\n",
    "        self.randomize()\n",
    "    \n",
    "    def set_alpha(self, a):\n",
    "        self._alpha = a\n",
    "        self._weights = (self._omega ** a) / np.sum(self._omega ** a)\n",
    "    \n",
    "    def randomize(self):\n",
    "        self._phases = np.random.rand(len(self._omega)) * 2 * np.pi\n",
    "        self._t = np.random.randn(len(self._omega), self._dim)\n",
    "        self._t = self._t / np.linalg.norm(self._t, axis=1, keepdims=True)\n",
    "    \n",
    "    def __call__(self, x, total=True):\n",
    "        dot_tx = self._t @ x\n",
    "        if total:\n",
    "            return np.sum(self._weights[:,None] * np.sin(dot_tx*self._omega[:,None] + self._phases[:,None]), axis=0)\n",
    "        else:\n",
    "            return self._weights[:,None], np.sin(dot_tx*self._omega[:,None] + self._phases[:,None])\n",
    "\n",
    "    def gauss_expectation(self, mean, cov, total=True):\n",
    "        dot_tmu = self._t @ mean\n",
    "        tCt = np.sum(self._t * (self._t @ cov), axis=1)\n",
    "        if np.min(tCt) < 0.:\n",
    "            print(\"WTF1\")\n",
    "        sin_part = np.sin(dot_tmu*self._omega + self._phases)\n",
    "        exp_part = np.exp(-0.5 * tCt * self._omega**2)\n",
    "        if total:\n",
    "            return np.sum(self._weights * sin_part * exp_part)\n",
    "        else:\n",
    "            return self._weights, sin_part * exp_part\n",
    "\n",
    "\n",
    "class LazyMixtureOfSinusoids(object):\n",
    "    def __init__(self, dim, freqs, x=None, mus=None, covs=None, t=None):\n",
    "        if not ((x is None) ^ (mus is None)):\n",
    "            raise ValueError(\"Must set exactly one of x values or (mus, covs) to evaluate\")\n",
    "\n",
    "        self._dim = dim\n",
    "        self._omega = np.array(freqs)\n",
    "    \n",
    "        if t is not None:\n",
    "            self._t = np.copy(t)\n",
    "        else:\n",
    "            # Choose random unit directions\n",
    "            self._t = np.random.randn(len(self._omega), self._dim)\n",
    "            self._t = self._t / np.linalg.norm(self._t, axis=1, keepdims=True)\n",
    "        \n",
    "        # Precompute table of values of size (len(freqs), len(x))\n",
    "        if x is not None:\n",
    "            dot_tx = self._t @ x\n",
    "            self._sin_table = np.sin(dot_tx*self._omega[:,None])\n",
    "            self._cos_table = np.cos(dot_tx*self._omega[:,None])\n",
    "        elif mus is not None:\n",
    "            tmu = np.einsum('fa,ax->fx', self._t, mus)\n",
    "            tCt = np.einsum('fa,fb,abx->fx', self._t, self._t, covs)\n",
    "            if np.min(tCt) < 0.:\n",
    "                print(\"WTF2\")\n",
    "            # print(\"mus\", mus.shape, \"covs\", covs.shape, \"tmu\", tmu.shape, \"tCt\", tCt.shape)\n",
    "            self._sin_table = np.sin(tmu*self._omega[:,None]) * np.exp(-0.5 * tCt * self._omega[:,None]**2)\n",
    "            self._cos_table = np.cos(tmu*self._omega[:,None]) * np.exp(-0.5 * tCt * self._omega[:,None]**2)\n",
    "    \n",
    "    def apply(self, weights, phases):\n",
    "        \"\"\"Use precomputed sin and cos tables to get sum of sin(omega*x+phase) using the identity\n",
    "        sin(ax+b) = cos(ax)sin(b) + sin(ax)cos(b)\n",
    "        \"\"\"\n",
    "        return weights @ (self._cos_table * np.sin(phases[:, None]) + self._sin_table * np.cos(phases[:, None]))\n"
   ]
  },
  {
   "cell_type": "code",
   "execution_count": 4,
   "id": "4f5d8aa4",
   "metadata": {},
   "outputs": [
    {
     "data": {
      "text/plain": [
       "Text(0, 0.5, 'analytic E[f]')"
      ]
     },
     "execution_count": 4,
     "metadata": {},
     "output_type": "execute_result"
    },
    {
     "data": {
      "image/png": "[encoded data removed]",
      "text/plain": [
       "<Figure size 288x288 with 1 Axes>"
      ]
     },
     "metadata": {
      "needs_background": "light"
     },
     "output_type": "display_data"
    }
   ],
   "source": [
    "dim = 2\n",
    "freqs = np.arange(1, 301, dtype='float32')*2*np.pi\n",
    "\n",
    "plt.figure(figsize=(4,4))\n",
    "f = RandomMixtureOfSinusoids(dim, freqs, -1.1)\n",
    "for i in range(300):\n",
    "    mu = np.random.randn(dim)\n",
    "    cov = np.random.randn(dim,dim)\n",
    "    cov = cov.T@cov + np.eye(dim)*.01\n",
    "    x_samples = np.random.multivariate_normal(mu, cov, (1000,))\n",
    "    f_samples = f(x_samples.T)\n",
    "    mc_val, mcse = np.mean(f_samples), np.std(f_samples) / np.sqrt(1000)\n",
    "    ana_val = f.gauss_expectation(mu, cov)\n",
    "    plt.errorbar(mc_val, ana_val, yerr=0, xerr=mcse, marker='.', color='k')\n",
    "plt.axis('equal')\n",
    "plt.grid('on')\n",
    "plt.xlabel('monte-carlo E[f]')\n",
    "plt.ylabel('analytic E[f]')"
   ]
  },
  {
   "cell_type": "code",
   "execution_count": 5,
   "id": "7d1fa7f1",
   "metadata": {},
   "outputs": [
    {
     "data": {
      "text/plain": [
       "<matplotlib.legend.Legend at 0x1311eff40>"
      ]
     },
     "execution_count": 5,
     "metadata": {},
     "output_type": "execute_result"
    },
    {
     "data": {
      "image/png": "[encoded data removed]",
      "text/plain": [
       "<Figure size 432x288 with 1 Axes>"
      ]
     },
     "metadata": {
      "needs_background": "light"
     },
     "output_type": "display_data"
    }
   ],
   "source": [
    "x = np.random.randn(dim, 100)*2\n",
    "mus = np.random.randn(dim, 100)*2\n",
    "covs = np.random.randn(dim, dim, 100)\n",
    "covs = np.moveaxis(np.matmul(np.transpose(covs, (2, 0, 1)), np.transpose(covs, (2, 1, 0))), 0, -1)\n",
    "\n",
    "mix1 = RandomMixtureOfSinusoids(dim, freqs, -2)\n",
    "vals1_x = mix1(x)\n",
    "vals1_g = [mix1.gauss_expectation(m, c) for m, c in zip(np.moveaxis(mus, -1, 0), np.moveaxis(covs, -1, 0))]\n",
    "\n",
    "mix2_x = LazyMixtureOfSinusoids(dim, freqs, x, t=mix1._t)\n",
    "mix2_g = LazyMixtureOfSinusoids(dim, freqs, None, mus, covs, t=mix1._t)\n",
    "vals2_x = mix2_x.apply(mix1._weights, mix1._phases)\n",
    "vals2_g = mix2_g.apply(mix1._weights, mix1._phases)\n",
    "\n",
    "plt.scatter(vals1_x, vals2_x, label='x')\n",
    "plt.scatter(vals1_g, vals2_g, label='g')\n",
    "plt.axis('equal')\n",
    "plt.grid('on')\n",
    "plt.legend()"
   ]
  },
  {
   "cell_type": "markdown",
   "id": "6ab7edf6",
   "metadata": {},
   "source": [
    "## Animate wiggliness"
   ]
  },
  {
   "cell_type": "code",
   "execution_count": 6,
   "id": "2fb753b4",
   "metadata": {},
   "outputs": [
    {
     "data": {
      "application/vnd.jupyter.widget-view+json": {
       "model_id": "94757bc3ba78401cac99084d9a5d07db",
       "version_major": 2,
       "version_minor": 0
      },
      "text/plain": [
       "frames:   0%|          | 0/100 [00:00<?, ?it/s]"
      ]
     },
     "metadata": {},
     "output_type": "display_data"
    }
   ],
   "source": [
    "from matplotlib import animation\n",
    "\n",
    "x = np.linspace(-1, 1, 500)\n",
    "xx, yy = np.meshgrid(x, x)\n",
    "xy = np.stack([xx.flatten(), yy.flatten()], axis=0)\n",
    "\n",
    "alphas = np.linspace(-3, -1)\n",
    "alphas = np.concatenate([np.flip(alphas), alphas])\n",
    "\n",
    "f1 = LazyMixtureOfSinusoids(dim=1, freqs=freqs, x=x[None, :])\n",
    "f2 = LazyMixtureOfSinusoids(dim=2, freqs=freqs, x=xy)\n",
    "\n",
    "phases = np.random.rand(freqs.size)*2*np.pi\n",
    "\n",
    "def weights(a):\n",
    "    return (freqs ** a) / (freqs[0] ** a)\n",
    "\n",
    "\n",
    "fig, axs = plt.subplots(1, 3, figsize=(9, 3))\n",
    "\n",
    "handles = [None]*3\n",
    "def init():\n",
    "    handles[0], = axs[0].loglog(freqs, weights(alphas[0]), '-k', linewidth=2)\n",
    "    axs[0].set_xlabel('frequency')\n",
    "    axs[0].set_ylabel('amplitude')\n",
    "    axs[0].set_title(r'$\\alpha$='+f'{alphas[0]:.1f}')\n",
    "    axs[0].grid('on')\n",
    "\n",
    "    handles[1], = axs[1].plot(x, f1.apply(weights(alphas[0]), phases), '-k', linewidth=2)\n",
    "    axs[1].set_xlabel('x')\n",
    "    axs[1].set_title('example f(x) in 1D')\n",
    "\n",
    "    handles[2] = axs[2].imshow(np.reshape(f2.apply(weights(alphas[0]), phases), xx.shape), cmap='Greys')\n",
    "    axs[2].set_xlabel('$x_1$')\n",
    "    axs[2].set_ylabel('$x_2$')\n",
    "    axs[2].set_title('example f(x) in 2D')\n",
    "    \n",
    "    fig.tight_layout()\n",
    "    \n",
    "    return fig,\n",
    "\n",
    "progbar = trange(len(alphas), desc='frames')\n",
    "def update(i):\n",
    "    progbar.update(1)\n",
    "\n",
    "    axs[0].set_title(r'$\\alpha$='+f'{alphas[i]:.1f}')\n",
    "    handles[0].set_data(freqs, weights(alphas[i]))\n",
    "    handles[1].set_data(x, f1.apply(weights(alphas[i]), phases))\n",
    "    handles[2].set_data(np.reshape(f2.apply(weights(alphas[i]), phases), xx.shape))\n",
    "    \n",
    "    return fig,\n",
    "\n",
    "anim = animation.FuncAnimation(fig, update, init_func=init, frames=len(alphas))\n",
    "anim.save(\"alpha_wiggliness.gif\", writer=animation.PillowWriter(fps=30), dpi=300)\n",
    "plt.close(fig)"
   ]
  }
 ],
 "metadata": {
  "kernelspec": {
   "display_name": "Python 3 (ipykernel)",
   "language": "python",
   "name": "python3"
  },
  "language_info": {
   "codemirror_mode": {
    "name": "ipython",
    "version": 3
   },
   "file_extension": ".py",
   "mimetype": "text/x-python",
   "name": "python",
   "nbconvert_exporter": "python",
   "pygments_lexer": "ipython3",
   "version": "3.9.6"
  }
 },
 "nbformat": 4,
 "nbformat_minor": 5
}
