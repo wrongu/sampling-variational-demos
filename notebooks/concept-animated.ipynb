{
 "cells": [
  {
   "cell_type": "code",
   "execution_count": 1,
   "id": "77940dd9",
   "metadata": {},
   "outputs": [],
   "source": [
    "import sys\n",
    "sys.path.extend(['..'])"
   ]
  },
  {
   "cell_type": "code",
   "execution_count": 2,
   "id": "deaf19b1",
   "metadata": {},
   "outputs": [],
   "source": [
    "import torch\n",
    "import numpy as np\n",
    "import pandas as pd\n",
    "import matplotlib.pyplot as plt\n",
    "import stan\n",
    "import json\n",
    "from pathlib import Path\n",
    "from tqdm.auto import trange\n",
    "\n",
    "import nest_asyncio\n",
    "nest_asyncio.apply()\n",
    "\n",
    "%matplotlib inline"
   ]
  },
  {
   "cell_type": "code",
   "execution_count": 3,
   "id": "e22c2d60",
   "metadata": {},
   "outputs": [],
   "source": [
    "demo_distribution, demo_lambda = 'banana', 2.0\n",
    "stan_file = Path('..') / demo_distribution / (demo_distribution + '.stan')\n",
    "data_file = Path('..') / demo_distribution / 'data.json'\n",
    "nuts_csv = Path('..') / demo_distribution / 'nuts_1.csv'\n",
    "advi_csv = Path('..') / demo_distribution / 'advi600.csv'\n",
    "isvi_csv = Path('..') / demo_distribution / 'isvi_2.0_1.csv'\n",
    "\n",
    "assert stan_file.exists()\n",
    "assert nuts_csv.exists()\n",
    "assert advi_csv.exists()\n",
    "assert isvi_csv.exists()"
   ]
  },
  {
   "cell_type": "markdown",
   "id": "5dfa4bcd",
   "metadata": {},
   "source": [
    "Create a stan model we can query in python"
   ]
  },
  {
   "cell_type": "code",
   "execution_count": 4,
   "id": "ed697599",
   "metadata": {},
   "outputs": [],
   "source": [
    "%%capture\n",
    "with open(stan_file, 'r') as f:\n",
    "    data = json.load(data_file) if data_file.exists() else {}\n",
    "    stan_model = stan.build(f.read(), data=data)"
   ]
  },
  {
   "cell_type": "markdown",
   "id": "54295747",
   "metadata": {},
   "source": [
    "load NUTS results and use them to define bounds on the space"
   ]
  },
  {
   "cell_type": "code",
   "execution_count": 5,
   "id": "de2f47b5",
   "metadata": {},
   "outputs": [],
   "source": [
    "def samples_to_limits(samples):\n",
    "    lo_hi = np.array([samples.min(), samples.max()])\n",
    "    midpoint = np.mean(lo_hi)\n",
    "    return midpoint + 1.1 * (lo_hi - midpoint)\n",
    "\n",
    "nuts_data = pd.read_csv(nuts_csv, comment='#')\n",
    "samples = nuts_data[list(stan_model.param_names)]\n",
    "ranges = {k: samples_to_limits(samples[k]) for k in stan_model.param_names}\n",
    "grids = {k: np.linspace(*r, 100) for k, r in ranges.items()}"
   ]
  },
  {
   "cell_type": "code",
   "execution_count": 6,
   "id": "5b503e82",
   "metadata": {},
   "outputs": [
    {
     "data": {
      "application/vnd.jupyter.widget-view+json": {
       "model_id": "911bbc23949c4123997bbb73d11e1afb",
       "version_major": 2,
       "version_minor": 0
      },
      "text/plain": [
       "  0%|          | 0/10000 [00:00<?, ?it/s]"
      ]
     },
     "metadata": {},
     "output_type": "display_data"
    }
   ],
   "source": [
    "xx, yy = np.meshgrid(grids['x'], grids['y'])\n",
    "lp = np.zeros(xx.size)\n",
    "for i in trange(xx.size):\n",
    "    lp[i] = stan_model.log_prob([xx.flatten()[i], yy.flatten()[i]])\n",
    "lp = np.reshape(lp, xx.shape)"
   ]
  },
  {
   "cell_type": "markdown",
   "id": "ebb30d67",
   "metadata": {},
   "source": [
    "## Animate sampling"
   ]
  },
  {
   "cell_type": "code",
   "execution_count": 7,
   "id": "654f9fbb",
   "metadata": {},
   "outputs": [],
   "source": [
    "from matplotlib import animation\n",
    "from IPython.display import HTML\n",
    "from matplotlib import cm as cmap"
   ]
  },
  {
   "cell_type": "code",
   "execution_count": 9,
   "id": "c50c705c",
   "metadata": {},
   "outputs": [
    {
     "data": {
      "application/vnd.jupyter.widget-view+json": {
       "model_id": "",
       "version_major": 2,
       "version_minor": 0
      },
      "text/plain": [
       "Frames:   0%|          | 0/300 [00:00<?, ?it/s]"
      ]
     },
     "metadata": {},
     "output_type": "display_data"
    }
   ],
   "source": [
    "fig, ax = plt.subplots(2, 1, figsize=(5, 8))\n",
    "\n",
    "n_samples_plot = 300\n",
    "lines = [None]*2\n",
    "\n",
    "progbar = trange(n_samples_plot, desc='Frames', leave=False)\n",
    "\n",
    "def init():\n",
    "    ax[0].imshow(np.exp(lp), origin='lower', extent=(xx.min(), xx.max(), yy.min(), yy.max()))\n",
    "    ax[1].plot(samples.x[:n_samples_plot], color=cmap.tab10(0.0), alpha=0.2)\n",
    "    ax[1].plot(samples.y[:n_samples_plot], color=cmap.tab10(0.1), alpha=0.2)\n",
    "    ax[1].set_xlabel('samples')\n",
    "    ax[1].set_title('traces from NUTS')\n",
    "    lines[0], = ax[1].plot([1], samples.x[:1], marker='.', color=cmap.tab10(0.0), linestyle='', label='x')\n",
    "    lines[1], = ax[1].plot([1], samples.y[:1], marker='.', color=cmap.tab10(0.1), linestyle='', label='y')\n",
    "    ax[1].legend(loc='upper right')\n",
    "    return fig,\n",
    "\n",
    "def update(i):\n",
    "    progbar.update(1)\n",
    "    ax[0].plot(samples.x[i], samples.y[i], '.r', alpha=0.5)\n",
    "    lines[0].set_data(1+np.arange(i+1), samples.x[:i+1])\n",
    "    lines[1].set_data(1+np.arange(i+1), samples.y[:i+1])\n",
    "    return fig,\n",
    "\n",
    "anim = animation.FuncAnimation(fig, update, frames=n_samples_plot, init_func=init)\n",
    "anim.save(\"nuts.gif\", writer=animation.PillowWriter(fps=30), dpi=300)\n",
    "plt.close(fig)"
   ]
  },
  {
   "cell_type": "markdown",
   "id": "3bc8856b",
   "metadata": {},
   "source": [
    "![NUTS animated](nuts.gif)"
   ]
  },
  {
   "cell_type": "markdown",
   "id": "11775241",
   "metadata": {},
   "source": [
    "## Animate VI\n",
    "\n",
    "Note: Stan ADVI does not natively print out its optimization trajectory anywhere. I hacked it in with some `std::cout` then filtered to CSV using\n",
    "```\n",
    "$ ./banana variational output file=advi.csv > tmp.txt  \n",
    "$ cat tmp.txt | grep -A 3 ADVI | sed 's/\\[ADVI PARAMS\\]//' | head -n 3000 > advi600.csv\n",
    "```\n",
    "The 3000 lines come from the fact that there are 4 parameters plus a '--' for each iteration, so 5 lines define 1 iteration. After more messing around with find/replace I made it into a valid csv called `advi600.csv`"
   ]
  },
  {
   "cell_type": "code",
   "execution_count": 10,
   "id": "a8c65cef",
   "metadata": {},
   "outputs": [],
   "source": [
    "advi_optim_steps = pd.read_csv(Path('..') / demo_distribution / 'advi600.csv').to_numpy()"
   ]
  },
  {
   "cell_type": "code",
   "execution_count": 14,
   "id": "4e14cce3",
   "metadata": {},
   "outputs": [
    {
     "data": {
      "application/vnd.jupyter.widget-view+json": {
       "model_id": "05f92cae39094b81864f8542f82e52a7",
       "version_major": 2,
       "version_minor": 0
      },
      "text/plain": [
       "Frames:   0%|          | 0/600 [00:00<?, ?it/s]"
      ]
     },
     "metadata": {},
     "output_type": "display_data"
    }
   ],
   "source": [
    "fig, ax = plt.subplots(2, 1, figsize=(5, 8))\n",
    "\n",
    "n_advi_plot = 600\n",
    "skip = 2\n",
    "\n",
    "ellipse = [None]\n",
    "lines = [None]*4\n",
    "\n",
    "progbar = trange(n_advi_plot, desc='Frames', leave=False)\n",
    "\n",
    "\n",
    "def diag_ellipse(theta):\n",
    "    mu = theta[:2]\n",
    "    sigma = np.exp(theta[2:])\n",
    "    t = np.linspace(0, 2*np.pi)\n",
    "    uv = np.stack([np.cos(t), np.sin(t)], axis=1)\n",
    "    return (mu + sigma * uv).T\n",
    "\n",
    "\n",
    "def init():\n",
    "    ax[0].imshow(np.exp(lp), origin='lower', extent=(xx.min(), xx.max(), yy.min(), yy.max()))\n",
    "    ellipse[0], = ax[0].plot(*diag_ellipse(advi_optim_steps[0]), '-r')\n",
    "    ax[1].plot(advi_optim_steps[:n_advi_plot, 0], color=cmap.tab10(0.0), alpha=0.2)\n",
    "    ax[1].plot(advi_optim_steps[:n_advi_plot, 1], color=cmap.tab10(0.1), alpha=0.2)\n",
    "    ax[1].plot(advi_optim_steps[:n_advi_plot, 2], color=cmap.tab10(0.2), alpha=0.2)\n",
    "    ax[1].plot(advi_optim_steps[:n_advi_plot, 3], color=cmap.tab10(0.3), alpha=0.2)\n",
    "    ax[1].set_xlabel('optimization steps')\n",
    "    ax[1].set_title('optimization trace from ADVI')\n",
    "    lines[0], = ax[1].plot([1], advi_optim_steps[0,0], marker='.', color=cmap.tab10(0.0), linestyle='', label='$\\mu_x$')\n",
    "    lines[1], = ax[1].plot([1], advi_optim_steps[0,1], marker='.', color=cmap.tab10(0.1), linestyle='', label='$\\mu_y$')\n",
    "    lines[2], = ax[1].plot([1], advi_optim_steps[0,2], marker='.', color=cmap.tab10(0.2), linestyle='', label='$\\omega_x$')\n",
    "    lines[3], = ax[1].plot([1], advi_optim_steps[0,3], marker='.', color=cmap.tab10(0.3), linestyle='', label='$\\omega_x$')\n",
    "    ax[1].legend(loc='upper right')\n",
    "    return fig,\n",
    "\n",
    "\n",
    "def update(i):\n",
    "    progbar.update(skip)\n",
    "    ellipse[0].set_data(*diag_ellipse(advi_optim_steps[i*skip]))\n",
    "    lines[0].set_data(1+i*skip, advi_optim_steps[i*skip, 0])\n",
    "    lines[1].set_data(1+i*skip, advi_optim_steps[i*skip, 1])\n",
    "    lines[2].set_data(1+i*skip, advi_optim_steps[i*skip, 2])\n",
    "    lines[3].set_data(1+i*skip, advi_optim_steps[i*skip, 3])\n",
    "    return fig,\n",
    "\n",
    "anim = animation.FuncAnimation(fig, update, frames=n_advi_plot//skip, init_func=init)\n",
    "anim.save(\"advi.gif\", writer=animation.PillowWriter(fps=30), dpi=300)\n",
    "plt.close(fig)"
   ]
  },
  {
   "cell_type": "markdown",
   "id": "7127b3ea",
   "metadata": {},
   "source": [
    "![ADVI animated](advi.gif)"
   ]
  },
  {
   "cell_type": "markdown",
   "id": "35bdba3a",
   "metadata": {},
   "source": [
    "## ISVI animation"
   ]
  },
  {
   "cell_type": "code",
   "execution_count": 15,
   "id": "4d62b9f1",
   "metadata": {},
   "outputs": [
    {
     "data": {
      "image/png": "[encoded data removed]",
      "text/plain": [
       "<Figure size 432x288 with 1 Axes>"
      ]
     },
     "metadata": {
      "needs_background": "light"
     },
     "output_type": "display_data"
    }
   ],
   "source": [
    "isvi_data = pd.read_csv(isvi_csv, comment='#')\n",
    "isvi_data[['mu_x', 'mu_y', 'omega_x', 'omega_y']].plot()\n",
    "isvi_samples = isvi_data[['mu_x', 'mu_y', 'omega_x', 'omega_y']].to_numpy()"
   ]
  },
  {
   "cell_type": "code",
   "execution_count": 16,
   "id": "07e2c5be",
   "metadata": {},
   "outputs": [
    {
     "data": {
      "application/vnd.jupyter.widget-view+json": {
       "model_id": "00c461eef0084789aacdee4dbd273b90",
       "version_major": 2,
       "version_minor": 0
      },
      "text/plain": [
       "Frames:   0%|          | 0/300 [00:00<?, ?it/s]"
      ]
     },
     "metadata": {},
     "output_type": "display_data"
    }
   ],
   "source": [
    "fig, ax = plt.subplots(2, 1, figsize=(5, 8))\n",
    "\n",
    "n_samples_plot = 300\n",
    "lines = [None]*4\n",
    "\n",
    "progbar = trange(n_samples_plot, desc='Frames', leave=False)\n",
    "\n",
    "def init():\n",
    "    ax[0].imshow(np.exp(lp), origin='lower', extent=(xx.min(), xx.max(), yy.min(), yy.max()))\n",
    "    ax[0].plot(*diag_ellipse(isvi_samples[0]), '-r', alpha=0.3)\n",
    "    ax[1].plot(isvi_samples[:n_samples_plot, 0], color=cmap.tab10(0.0), alpha=0.2)\n",
    "    ax[1].plot(isvi_samples[:n_samples_plot, 1], color=cmap.tab10(0.1), alpha=0.2)\n",
    "    ax[1].plot(isvi_samples[:n_samples_plot, 2], color=cmap.tab10(0.2), alpha=0.2)\n",
    "    ax[1].plot(isvi_samples[:n_samples_plot, 3], color=cmap.tab10(0.3), alpha=0.2)\n",
    "    ax[1].set_xlabel('samples')\n",
    "    ax[1].set_title('Our Method')\n",
    "    lines[0], = ax[1].plot([1], isvi_samples[0,0], marker='.', color=cmap.tab10(0.0), linestyle='', label='$\\mu_x$')\n",
    "    lines[1], = ax[1].plot([1], isvi_samples[0,1], marker='.', color=cmap.tab10(0.1), linestyle='', label='$\\mu_y$')\n",
    "    lines[2], = ax[1].plot([1], isvi_samples[0,2], marker='.', color=cmap.tab10(0.2), linestyle='', label='$\\omega_x$')\n",
    "    lines[3], = ax[1].plot([1], isvi_samples[0,3], marker='.', color=cmap.tab10(0.3), linestyle='', label='$\\omega_x$')\n",
    "    return fig,\n",
    "\n",
    "def update(i):\n",
    "    progbar.update(1)\n",
    "    ax[0].plot(*diag_ellipse(isvi_samples[i]), '-r', alpha=0.3)\n",
    "    lines[0].set_data(1+np.arange(i+1), isvi_samples[:i+1, 0])\n",
    "    lines[1].set_data(1+np.arange(i+1), isvi_samples[:i+1, 1])\n",
    "    lines[2].set_data(1+np.arange(i+1), isvi_samples[:i+1, 2])\n",
    "    lines[3].set_data(1+np.arange(i+1), isvi_samples[:i+1, 3])\n",
    "    return fig,\n",
    "\n",
    "anim = animation.FuncAnimation(fig, update, frames=n_samples_plot, init_func=init)\n",
    "anim.save(\"isvi.gif\", writer=animation.PillowWriter(fps=30), dpi=300)\n",
    "plt.close(fig)"
   ]
  },
  {
   "cell_type": "markdown",
   "id": "265c3667",
   "metadata": {},
   "source": [
    "![ISVI animated](isvi.gif)"
   ]
  }
 ],
 "metadata": {
  "kernelspec": {
   "display_name": "Python 3 (ipykernel)",
   "language": "python",
   "name": "python3"
  },
  "language_info": {
   "codemirror_mode": {
    "name": "ipython",
    "version": 3
   },
   "file_extension": ".py",
   "mimetype": "text/x-python",
   "name": "python",
   "nbconvert_exporter": "python",
   "pygments_lexer": "ipython3",
   "version": "3.9.6"
  }
 },
 "nbformat": 4,
 "nbformat_minor": 5
}
